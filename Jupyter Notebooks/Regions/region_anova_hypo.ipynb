{
 "cells": [
  {
   "cell_type": "code",
   "execution_count": 1,
   "metadata": {},
   "outputs": [],
   "source": [
    "import warnings\n",
    "warnings.filterwarnings('ignore')"
   ]
  },
  {
   "cell_type": "code",
   "execution_count": 2,
   "metadata": {},
   "outputs": [],
   "source": [
    "%matplotlib inline\n",
    "import pandas as pd\n",
    "import scipy.stats as stats"
   ]
  },
  {
   "cell_type": "code",
   "execution_count": 3,
   "metadata": {},
   "outputs": [
    {
     "data": {
      "text/html": [
       "<div>\n",
       "<style scoped>\n",
       "    .dataframe tbody tr th:only-of-type {\n",
       "        vertical-align: middle;\n",
       "    }\n",
       "\n",
       "    .dataframe tbody tr th {\n",
       "        vertical-align: top;\n",
       "    }\n",
       "\n",
       "    .dataframe thead th {\n",
       "        text-align: right;\n",
       "    }\n",
       "</style>\n",
       "<table border=\"1\" class=\"dataframe\">\n",
       "  <thead>\n",
       "    <tr style=\"text-align: right;\">\n",
       "      <th></th>\n",
       "      <th>Parent Name</th>\n",
       "      <th>Area Name</th>\n",
       "      <th>Time period</th>\n",
       "      <th>Value</th>\n",
       "      <th>Count</th>\n",
       "      <th>Compared to England value or percentiles</th>\n",
       "      <th>Compared to Region value or percentiles</th>\n",
       "    </tr>\n",
       "  </thead>\n",
       "  <tbody>\n",
       "    <tr>\n",
       "      <th>0</th>\n",
       "      <td>North East region</td>\n",
       "      <td>Hartlepool</td>\n",
       "      <td>2019 - 21</td>\n",
       "      <td>14.667019</td>\n",
       "      <td>36.0</td>\n",
       "      <td>Similar</td>\n",
       "      <td>Similar</td>\n",
       "    </tr>\n",
       "    <tr>\n",
       "      <th>1</th>\n",
       "      <td>North East region</td>\n",
       "      <td>Middlesbrough</td>\n",
       "      <td>2019 - 21</td>\n",
       "      <td>14.879852</td>\n",
       "      <td>54.0</td>\n",
       "      <td>Worse</td>\n",
       "      <td>Similar</td>\n",
       "    </tr>\n",
       "    <tr>\n",
       "      <th>2</th>\n",
       "      <td>North East region</td>\n",
       "      <td>Redcar and Cleveland</td>\n",
       "      <td>2019 - 21</td>\n",
       "      <td>19.750601</td>\n",
       "      <td>69.0</td>\n",
       "      <td>Worse</td>\n",
       "      <td>Worse</td>\n",
       "    </tr>\n",
       "    <tr>\n",
       "      <th>3</th>\n",
       "      <td>North East region</td>\n",
       "      <td>Stockton-on-Tees</td>\n",
       "      <td>2019 - 21</td>\n",
       "      <td>10.206445</td>\n",
       "      <td>52.0</td>\n",
       "      <td>Similar</td>\n",
       "      <td>Similar</td>\n",
       "    </tr>\n",
       "    <tr>\n",
       "      <th>4</th>\n",
       "      <td>North East region</td>\n",
       "      <td>Darlington</td>\n",
       "      <td>2019 - 21</td>\n",
       "      <td>16.598023</td>\n",
       "      <td>47.0</td>\n",
       "      <td>Worse</td>\n",
       "      <td>Similar</td>\n",
       "    </tr>\n",
       "    <tr>\n",
       "      <th>...</th>\n",
       "      <td>...</td>\n",
       "      <td>...</td>\n",
       "      <td>...</td>\n",
       "      <td>...</td>\n",
       "      <td>...</td>\n",
       "      <td>...</td>\n",
       "      <td>...</td>\n",
       "    </tr>\n",
       "    <tr>\n",
       "      <th>144</th>\n",
       "      <td>East of England region</td>\n",
       "      <td>Suffolk</td>\n",
       "      <td>2019 - 21</td>\n",
       "      <td>10.387505</td>\n",
       "      <td>208.0</td>\n",
       "      <td>Similar</td>\n",
       "      <td>Similar</td>\n",
       "    </tr>\n",
       "    <tr>\n",
       "      <th>145</th>\n",
       "      <td>South East region</td>\n",
       "      <td>Surrey</td>\n",
       "      <td>2019 - 21</td>\n",
       "      <td>10.096817</td>\n",
       "      <td>316.0</td>\n",
       "      <td>Similar</td>\n",
       "      <td>Similar</td>\n",
       "    </tr>\n",
       "    <tr>\n",
       "      <th>146</th>\n",
       "      <td>West Midlands region</td>\n",
       "      <td>Warwickshire</td>\n",
       "      <td>2019 - 21</td>\n",
       "      <td>11.215052</td>\n",
       "      <td>172.0</td>\n",
       "      <td>Similar</td>\n",
       "      <td>Similar</td>\n",
       "    </tr>\n",
       "    <tr>\n",
       "      <th>147</th>\n",
       "      <td>South East region</td>\n",
       "      <td>West Sussex</td>\n",
       "      <td>2019 - 21</td>\n",
       "      <td>11.533312</td>\n",
       "      <td>265.0</td>\n",
       "      <td>Similar</td>\n",
       "      <td>Similar</td>\n",
       "    </tr>\n",
       "    <tr>\n",
       "      <th>148</th>\n",
       "      <td>West Midlands region</td>\n",
       "      <td>Worcestershire</td>\n",
       "      <td>2019 - 21</td>\n",
       "      <td>12.015792</td>\n",
       "      <td>186.0</td>\n",
       "      <td>Similar</td>\n",
       "      <td>Similar</td>\n",
       "    </tr>\n",
       "  </tbody>\n",
       "</table>\n",
       "<p>149 rows × 7 columns</p>\n",
       "</div>"
      ],
      "text/plain": [
       "                Parent Name             Area Name Time period      Value  \\\n",
       "0         North East region            Hartlepool   2019 - 21  14.667019   \n",
       "1         North East region         Middlesbrough   2019 - 21  14.879852   \n",
       "2         North East region  Redcar and Cleveland   2019 - 21  19.750601   \n",
       "3         North East region      Stockton-on-Tees   2019 - 21  10.206445   \n",
       "4         North East region            Darlington   2019 - 21  16.598023   \n",
       "..                      ...                   ...         ...        ...   \n",
       "144  East of England region               Suffolk   2019 - 21  10.387505   \n",
       "145       South East region                Surrey   2019 - 21  10.096817   \n",
       "146    West Midlands region          Warwickshire   2019 - 21  11.215052   \n",
       "147       South East region           West Sussex   2019 - 21  11.533312   \n",
       "148    West Midlands region        Worcestershire   2019 - 21  12.015792   \n",
       "\n",
       "     Count Compared to England value or percentiles  \\\n",
       "0     36.0                                  Similar   \n",
       "1     54.0                                    Worse   \n",
       "2     69.0                                    Worse   \n",
       "3     52.0                                  Similar   \n",
       "4     47.0                                    Worse   \n",
       "..     ...                                      ...   \n",
       "144  208.0                                  Similar   \n",
       "145  316.0                                  Similar   \n",
       "146  172.0                                  Similar   \n",
       "147  265.0                                  Similar   \n",
       "148  186.0                                  Similar   \n",
       "\n",
       "    Compared to Region value or percentiles  \n",
       "0                                   Similar  \n",
       "1                                   Similar  \n",
       "2                                     Worse  \n",
       "3                                   Similar  \n",
       "4                                   Similar  \n",
       "..                                      ...  \n",
       "144                                 Similar  \n",
       "145                                 Similar  \n",
       "146                                 Similar  \n",
       "147                                 Similar  \n",
       "148                                 Similar  \n",
       "\n",
       "[149 rows x 7 columns]"
      ]
     },
     "execution_count": 3,
     "metadata": {},
     "output_type": "execute_result"
    }
   ],
   "source": [
    "region_df = pd.read_csv(\"../../CSVs/DuringCovid_a.csv\")\n",
    "region_df"
   ]
  },
  {
   "cell_type": "code",
   "execution_count": 4,
   "metadata": {},
   "outputs": [
    {
     "data": {
      "image/png": "[encoded data removed]",
      "text/plain": [
       "<Figure size 2000x1000 with 1 Axes>"
      ]
     },
     "metadata": {},
     "output_type": "display_data"
    }
   ],
   "source": [
    "# Create a boxplot to compare means\n",
    "region_df.boxplot(\"Value\", by=\"Parent Name\", figsize=(20, 10));"
   ]
  },
  {
   "cell_type": "code",
   "execution_count": 5,
   "metadata": {},
   "outputs": [],
   "source": [
    "# Extract individual groups\n",
    "group0 = region_df[region_df[\"Parent Name\"] == 'East Midlands region'][\"Value\"]\n",
    "group1 = region_df[region_df[\"Parent Name\"] == 'East of England region'][\"Value\"]\n",
    "group2 = region_df[region_df[\"Parent Name\"] == 'London region'][\"Value\"]\n",
    "group3 = region_df[region_df[\"Parent Name\"] == 'North East region'][\"Value\"]\n",
    "group4 = region_df[region_df[\"Parent Name\"] == 'North West region'][\"Value\"]\n",
    "group5 = region_df[region_df[\"Parent Name\"] == 'South East region'][\"Value\"]\n",
    "group6 = region_df[region_df[\"Parent Name\"] == 'South West region'][\"Value\"]\n",
    "group7 = region_df[region_df[\"Parent Name\"] == 'West Midlands region'][\"Value\"]\n",
    "group8 = region_df[region_df[\"Parent Name\"] == 'Yorkshire and the Humber region'][\"Value\"]"
   ]
  },
  {
   "cell_type": "code",
   "execution_count": 6,
   "metadata": {},
   "outputs": [
    {
     "data": {
      "text/plain": [
       "14      8.843331\n",
       "15     10.624234\n",
       "16     11.216830\n",
       "55     10.797309\n",
       "56      9.456951\n",
       "127    11.511715\n",
       "136     8.690728\n",
       "137    12.101102\n",
       "140    10.288874\n",
       "Name: Value, dtype: float64"
      ]
     },
     "execution_count": 6,
     "metadata": {},
     "output_type": "execute_result"
    }
   ],
   "source": [
    "group0"
   ]
  },
  {
   "cell_type": "code",
   "execution_count": 7,
   "metadata": {},
   "outputs": [
    {
     "data": {
      "text/plain": [
       "F_onewayResult(statistic=10.974376634825246, pvalue=6.052914557584357e-12)"
      ]
     },
     "execution_count": 7,
     "metadata": {},
     "output_type": "execute_result"
    }
   ],
   "source": [
    "# Perform the ANOVA\n",
    "stats.f_oneway(group0, group1, group2, group3, group4, group5, group6, group7, group8)"
   ]
  }
 ],
 "metadata": {
  "anaconda-cloud": {},
  "kernelspec": {
   "display_name": "Python 3 (ipykernel)",
   "language": "python",
   "name": "python3"
  },
  "language_info": {
   "codemirror_mode": {
    "name": "ipython",
    "version": 3
   },
   "file_extension": ".py",
   "mimetype": "text/x-python",
   "name": "python",
   "nbconvert_exporter": "python",
   "pygments_lexer": "ipython3",
   "version": "3.9.13"
  },
  "varInspector": {
   "cols": {
    "lenName": 16,
    "lenType": 16,
    "lenVar": 40
   },
   "kernels_config": {
    "python": {
     "delete_cmd_postfix": "",
     "delete_cmd_prefix": "del ",
     "library": "var_list.py",
     "varRefreshCmd": "print(var_dic_list())"
    },
    "r": {
     "delete_cmd_postfix": ") ",
     "delete_cmd_prefix": "rm(",
     "library": "var_list.r",
     "varRefreshCmd": "cat(var_dic_list()) "
    }
   },
   "types_to_exclude": [
    "module",
    "function",
    "builtin_function_or_method",
    "instance",
    "_Feature"
   ],
   "window_display": false
  }
 },
 "nbformat": 4,
 "nbformat_minor": 1
}
