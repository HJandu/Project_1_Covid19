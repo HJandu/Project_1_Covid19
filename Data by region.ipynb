{
 "cells": [
  {
   "cell_type": "code",
   "execution_count": 139,
   "id": "0d9b180d",
   "metadata": {},
   "outputs": [],
   "source": [
    "import matplotlib.pyplot as plt\n",
    "import pandas as pd\n",
    "import scipy.stats as st\n",
    "import numpy as np\n",
    "import os\n",
    "import csv"
   ]
  },
  {
   "cell_type": "code",
   "execution_count": 140,
   "id": "5bfb3c8c",
   "metadata": {},
   "outputs": [],
   "source": [
    "pre_covid_csv = os.path.join(\"CSVs\",\"PreCovid_r.csv\")\n",
    "pre_covid_csv=\"//Users//gussiepoole//UBHM//Project_1//Project_Group_2//CSVs//PreCovid_r.csv\"\n",
    "during_covid_csv = os.path.join(\"CSVs\",\"DuringCovid_r.csv\")\n",
    "during_covid_csv=\"//Users//gussiepoole//UBHM//Project_1//Project_Group_2//CSVs//DuringCovid_r.csv\""
   ]
  },
  {
   "cell_type": "code",
   "execution_count": 141,
   "id": "e2a09b5f",
   "metadata": {},
   "outputs": [],
   "source": [
    "pre_covid = pd.read_csv(pre_covid_csv)\n",
    "during_covid = pd.read_csv(during_covid_csv)"
   ]
  },
  {
   "cell_type": "code",
   "execution_count": 142,
   "id": "a0bab7d3",
   "metadata": {},
   "outputs": [
    {
     "data": {
      "text/html": [
       "<div>\n",
       "<style scoped>\n",
       "    .dataframe tbody tr th:only-of-type {\n",
       "        vertical-align: middle;\n",
       "    }\n",
       "\n",
       "    .dataframe tbody tr th {\n",
       "        vertical-align: top;\n",
       "    }\n",
       "\n",
       "    .dataframe thead th {\n",
       "        text-align: right;\n",
       "    }\n",
       "</style>\n",
       "<table border=\"1\" class=\"dataframe\">\n",
       "  <thead>\n",
       "    <tr style=\"text-align: right;\">\n",
       "      <th></th>\n",
       "      <th>Area Name</th>\n",
       "      <th>Time period</th>\n",
       "      <th>Value</th>\n",
       "      <th>Count</th>\n",
       "      <th>Compared to England value or percentiles</th>\n",
       "    </tr>\n",
       "  </thead>\n",
       "  <tbody>\n",
       "    <tr>\n",
       "      <th>0</th>\n",
       "      <td>North East region</td>\n",
       "      <td>2017 - 19</td>\n",
       "      <td>11.620744</td>\n",
       "      <td>801.0</td>\n",
       "      <td>Worse</td>\n",
       "    </tr>\n",
       "    <tr>\n",
       "      <th>1</th>\n",
       "      <td>North West region</td>\n",
       "      <td>2017 - 19</td>\n",
       "      <td>10.647795</td>\n",
       "      <td>2025.0</td>\n",
       "      <td>Worse</td>\n",
       "    </tr>\n",
       "    <tr>\n",
       "      <th>2</th>\n",
       "      <td>Yorkshire and the Humber region</td>\n",
       "      <td>2017 - 19</td>\n",
       "      <td>11.966742</td>\n",
       "      <td>1699.0</td>\n",
       "      <td>Worse</td>\n",
       "    </tr>\n",
       "    <tr>\n",
       "      <th>3</th>\n",
       "      <td>East Midlands region</td>\n",
       "      <td>2017 - 19</td>\n",
       "      <td>9.515418</td>\n",
       "      <td>1197.0</td>\n",
       "      <td>Better</td>\n",
       "    </tr>\n",
       "    <tr>\n",
       "      <th>4</th>\n",
       "      <td>West Midlands region</td>\n",
       "      <td>2017 - 19</td>\n",
       "      <td>10.196134</td>\n",
       "      <td>1548.0</td>\n",
       "      <td>Similar</td>\n",
       "    </tr>\n",
       "    <tr>\n",
       "      <th>5</th>\n",
       "      <td>East of England region</td>\n",
       "      <td>2017 - 19</td>\n",
       "      <td>10.542289</td>\n",
       "      <td>1708.0</td>\n",
       "      <td>Similar</td>\n",
       "    </tr>\n",
       "    <tr>\n",
       "      <th>6</th>\n",
       "      <td>London region</td>\n",
       "      <td>2017 - 19</td>\n",
       "      <td>8.216907</td>\n",
       "      <td>1845.0</td>\n",
       "      <td>Better</td>\n",
       "    </tr>\n",
       "    <tr>\n",
       "      <th>7</th>\n",
       "      <td>South East region</td>\n",
       "      <td>2017 - 19</td>\n",
       "      <td>9.617886</td>\n",
       "      <td>2299.0</td>\n",
       "      <td>Better</td>\n",
       "    </tr>\n",
       "    <tr>\n",
       "      <th>8</th>\n",
       "      <td>South West region</td>\n",
       "      <td>2017 - 19</td>\n",
       "      <td>11.347431</td>\n",
       "      <td>1666.0</td>\n",
       "      <td>Worse</td>\n",
       "    </tr>\n",
       "  </tbody>\n",
       "</table>\n",
       "</div>"
      ],
      "text/plain": [
       "                         Area Name Time period      Value   Count  \\\n",
       "0                North East region   2017 - 19  11.620744   801.0   \n",
       "1                North West region   2017 - 19  10.647795  2025.0   \n",
       "2  Yorkshire and the Humber region   2017 - 19  11.966742  1699.0   \n",
       "3             East Midlands region   2017 - 19   9.515418  1197.0   \n",
       "4             West Midlands region   2017 - 19  10.196134  1548.0   \n",
       "5           East of England region   2017 - 19  10.542289  1708.0   \n",
       "6                    London region   2017 - 19   8.216907  1845.0   \n",
       "7                South East region   2017 - 19   9.617886  2299.0   \n",
       "8                South West region   2017 - 19  11.347431  1666.0   \n",
       "\n",
       "  Compared to England value or percentiles  \n",
       "0                                    Worse  \n",
       "1                                    Worse  \n",
       "2                                    Worse  \n",
       "3                                   Better  \n",
       "4                                  Similar  \n",
       "5                                  Similar  \n",
       "6                                   Better  \n",
       "7                                   Better  \n",
       "8                                    Worse  "
      ]
     },
     "execution_count": 142,
     "metadata": {},
     "output_type": "execute_result"
    }
   ],
   "source": [
    "pre_covid"
   ]
  },
  {
   "cell_type": "code",
   "execution_count": 143,
   "id": "bc966633",
   "metadata": {},
   "outputs": [
    {
     "data": {
      "text/plain": [
       "[0    11.620744\n",
       " 1    10.647795\n",
       " 2    11.966742\n",
       " 3     9.515418\n",
       " 4    10.196134\n",
       " 5    10.542289\n",
       " 6     8.216907\n",
       " 7     9.617886\n",
       " 8    11.347431\n",
       " Name: Value, dtype: float64,\n",
       " array([11.62074369, 10.64779501, 11.96674194,  9.51541758, 10.19613402,\n",
       "        10.54228928,  8.21690703,  9.61788563, 11.34743059]),\n",
       " [11.6207436888493,\n",
       "  10.6477950147949,\n",
       "  11.9667419352042,\n",
       "  9.51541757604404,\n",
       "  10.19613401674,\n",
       "  10.5422892831347,\n",
       "  8.2169070315212,\n",
       "  9.61788563446985,\n",
       "  11.3474305948627]]"
      ]
     },
     "execution_count": 143,
     "metadata": {},
     "output_type": "execute_result"
    }
   ],
   "source": [
    "pre_covid_list = []\n",
    "pre_covid_list.append(pre_covid['Value'])\n",
    "pre_covid_list.append(pre_covid['Value'].values)\n",
    "pre_covid_list.append(pre_covid['Value'].tolist())\n",
    "pre_covid_list"
   ]
  },
  {
   "cell_type": "code",
   "execution_count": 144,
   "id": "cfb5a9cf",
   "metadata": {},
   "outputs": [
    {
     "data": {
      "text/html": [
       "<div>\n",
       "<style scoped>\n",
       "    .dataframe tbody tr th:only-of-type {\n",
       "        vertical-align: middle;\n",
       "    }\n",
       "\n",
       "    .dataframe tbody tr th {\n",
       "        vertical-align: top;\n",
       "    }\n",
       "\n",
       "    .dataframe thead th {\n",
       "        text-align: right;\n",
       "    }\n",
       "</style>\n",
       "<table border=\"1\" class=\"dataframe\">\n",
       "  <thead>\n",
       "    <tr style=\"text-align: right;\">\n",
       "      <th></th>\n",
       "      <th>Area Name</th>\n",
       "      <th>Time period</th>\n",
       "      <th>Value</th>\n",
       "      <th>Count</th>\n",
       "      <th>Compared to England value or percentiles</th>\n",
       "    </tr>\n",
       "  </thead>\n",
       "  <tbody>\n",
       "    <tr>\n",
       "      <th>0</th>\n",
       "      <td>North East region</td>\n",
       "      <td>2019 - 21</td>\n",
       "      <td>12.950347</td>\n",
       "      <td>900.0</td>\n",
       "      <td>Worse</td>\n",
       "    </tr>\n",
       "    <tr>\n",
       "      <th>1</th>\n",
       "      <td>North West region</td>\n",
       "      <td>2019 - 21</td>\n",
       "      <td>11.368747</td>\n",
       "      <td>2177.0</td>\n",
       "      <td>Worse</td>\n",
       "    </tr>\n",
       "    <tr>\n",
       "      <th>2</th>\n",
       "      <td>Yorkshire and the Humber region</td>\n",
       "      <td>2019 - 21</td>\n",
       "      <td>12.548817</td>\n",
       "      <td>1799.0</td>\n",
       "      <td>Worse</td>\n",
       "    </tr>\n",
       "    <tr>\n",
       "      <th>3</th>\n",
       "      <td>East Midlands region</td>\n",
       "      <td>2019 - 21</td>\n",
       "      <td>10.348662</td>\n",
       "      <td>1317.0</td>\n",
       "      <td>Similar</td>\n",
       "    </tr>\n",
       "    <tr>\n",
       "      <th>4</th>\n",
       "      <td>West Midlands region</td>\n",
       "      <td>2019 - 21</td>\n",
       "      <td>10.719293</td>\n",
       "      <td>1645.0</td>\n",
       "      <td>Similar</td>\n",
       "    </tr>\n",
       "    <tr>\n",
       "      <th>5</th>\n",
       "      <td>East of England region</td>\n",
       "      <td>2019 - 21</td>\n",
       "      <td>9.765286</td>\n",
       "      <td>1593.0</td>\n",
       "      <td>Better</td>\n",
       "    </tr>\n",
       "    <tr>\n",
       "      <th>6</th>\n",
       "      <td>London region</td>\n",
       "      <td>2019 - 21</td>\n",
       "      <td>7.249207</td>\n",
       "      <td>1679.0</td>\n",
       "      <td>Better</td>\n",
       "    </tr>\n",
       "    <tr>\n",
       "      <th>7</th>\n",
       "      <td>South East region</td>\n",
       "      <td>2019 - 21</td>\n",
       "      <td>10.623220</td>\n",
       "      <td>2558.0</td>\n",
       "      <td>Similar</td>\n",
       "    </tr>\n",
       "    <tr>\n",
       "      <th>8</th>\n",
       "      <td>South West region</td>\n",
       "      <td>2019 - 21</td>\n",
       "      <td>11.974862</td>\n",
       "      <td>1779.0</td>\n",
       "      <td>Worse</td>\n",
       "    </tr>\n",
       "  </tbody>\n",
       "</table>\n",
       "</div>"
      ],
      "text/plain": [
       "                         Area Name Time period      Value   Count  \\\n",
       "0                North East region   2019 - 21  12.950347   900.0   \n",
       "1                North West region   2019 - 21  11.368747  2177.0   \n",
       "2  Yorkshire and the Humber region   2019 - 21  12.548817  1799.0   \n",
       "3             East Midlands region   2019 - 21  10.348662  1317.0   \n",
       "4             West Midlands region   2019 - 21  10.719293  1645.0   \n",
       "5           East of England region   2019 - 21   9.765286  1593.0   \n",
       "6                    London region   2019 - 21   7.249207  1679.0   \n",
       "7                South East region   2019 - 21  10.623220  2558.0   \n",
       "8                South West region   2019 - 21  11.974862  1779.0   \n",
       "\n",
       "  Compared to England value or percentiles  \n",
       "0                                    Worse  \n",
       "1                                    Worse  \n",
       "2                                    Worse  \n",
       "3                                  Similar  \n",
       "4                                  Similar  \n",
       "5                                   Better  \n",
       "6                                   Better  \n",
       "7                                  Similar  \n",
       "8                                    Worse  "
      ]
     },
     "execution_count": 144,
     "metadata": {},
     "output_type": "execute_result"
    }
   ],
   "source": [
    "during_covid"
   ]
  },
  {
   "cell_type": "code",
   "execution_count": 145,
   "id": "73586f8e",
   "metadata": {},
   "outputs": [
    {
     "data": {
      "text/plain": [
       "[0    12.950347\n",
       " 1    11.368747\n",
       " 2    12.548817\n",
       " 3    10.348662\n",
       " 4    10.719293\n",
       " 5     9.765286\n",
       " 6     7.249207\n",
       " 7    10.623220\n",
       " 8    11.974862\n",
       " Name: Value, dtype: float64,\n",
       " array([12.95034725, 11.36874713, 12.54881732, 10.34866228, 10.71929336,\n",
       "         9.76528584,  7.24920742, 10.62321959, 11.97486199]),\n",
       " [12.9503472524811,\n",
       "  11.3687471334997,\n",
       "  12.5488173158219,\n",
       "  10.34866228196,\n",
       "  10.719293360221,\n",
       "  9.76528584194412,\n",
       "  7.24920742257473,\n",
       "  10.6232195866991,\n",
       "  11.9748619934796]]"
      ]
     },
     "execution_count": 145,
     "metadata": {},
     "output_type": "execute_result"
    }
   ],
   "source": [
    "during_covid_list = []\n",
    "during_covid_list.append(during_covid['Value'])\n",
    "during_covid_list.append(during_covid['Value'].values)\n",
    "during_covid_list.append(during_covid['Value'].tolist())\n",
    "during_covid_list"
   ]
  },
  {
   "cell_type": "code",
   "execution_count": 148,
   "id": "cb2ae787",
   "metadata": {},
   "outputs": [
    {
     "data": {
      "image/png": "[encoded data removed]",
      "text/plain": [
       "<Figure size 1296x720 with 1 Axes>"
      ]
     },
     "metadata": {
      "needs_background": "light"
     },
     "output_type": "display_data"
    }
   ],
   "source": [
    "pre_suicide_df = pre_covid.plot.bar(x=\"Area Name\",y=\"Value\")\n",
    "plt.xlabel(\"Area Name\")\n",
    "plt.ylabel(\"Suicide Rate per 100,000 people\")\n",
    "plt.title(f\"Suicide rate by region per 100,000\")\n",
    "plt.show()"
   ]
  },
  {
   "cell_type": "code",
   "execution_count": 147,
   "id": "5a0c9738",
   "metadata": {},
   "outputs": [
    {
     "data": {
      "image/png": "[encoded data removed]",
      "text/plain": [
       "<Figure size 1296x720 with 1 Axes>"
      ]
     },
     "metadata": {
      "needs_background": "light"
     },
     "output_type": "display_data"
    }
   ],
   "source": [
    "during_suicide_df = during_covid.plot.bar(x=\"Area Name\",y=\"Value\")\n",
    "plt.xlabel(\"Area Name\")\n",
    "plt.ylabel(\"Suicide Rate per 100,000 people\")\n",
    "plt.title(f\"Suicide rate by region per 100,000\")\n",
    "plt.show()"
   ]
  },
  {
   "cell_type": "code",
   "execution_count": 136,
   "id": "e67b2268",
   "metadata": {},
   "outputs": [],
   "source": [
    "labels = ['North East','North West', 'Yorkshire and the Humber','East Midlands','West Midlands', 'East of England', 'London', 'South East', 'South West']\n"
   ]
  },
  {
   "cell_type": "code",
   "execution_count": 137,
   "id": "2fdf70b3",
   "metadata": {},
   "outputs": [
    {
     "data": {
      "image/png": "[encoded data removed]",
      "text/plain": [
       "<Figure size 1296x720 with 1 Axes>"
      ]
     },
     "metadata": {
      "needs_background": "light"
     },
     "output_type": "display_data"
    }
   ],
   "source": [
    "w=0.3\n",
    "x = ['North East','North West','Yorkshire & the Humber','East Midlands','West Midlands','East of England','London','South East',\n",
    " 'South West']\n",
    "\n",
    "pre_covid = [11.620744, 10.647795, 11.966742, 9.515418, 10.196134, 10.542289, 8.216907, 9.617886, 11.347431]\n",
    "during_covid = [12.950347, 11.368747, 12.548817, 10.348662, 10.719293, 9.765286, 7.249207, 10.623220, 11.974862]\n",
    "\n",
    "\n",
    "\n",
    "bar1 = np.arange(len(x))\n",
    "bar2 = [i+w for i in bar1]\n",
    "\n",
    "plt.bar(bar1, pre_covid,w,label=\"Pre Covid\")\n",
    "plt.bar(bar2, during_covid,w,label=\"During Covid\")\n",
    "\n",
    "plt.xlabel('Region')\n",
    "plt.ylabel('Suicide Rate')\n",
    "plt.title('Suicide rate before and during Covid by region')\n",
    "plt.legend()\n",
    "plt.xticks(bar1+w/2, x, rotation=45)\n",
    "plt.rcParams[\"figure.figsize\"] = (18,10)\n",
    "plt.savefig('suicide_by_region.png')"
   ]
  },
  {
   "cell_type": "markdown",
   "id": "750215a1",
   "metadata": {},
   "source": [
    "#"
   ]
  },
  {
   "cell_type": "code",
   "execution_count": null,
   "id": "713616f2",
   "metadata": {},
   "outputs": [],
   "source": []
  },
  {
   "cell_type": "code",
   "execution_count": null,
   "id": "09e640b2",
   "metadata": {},
   "outputs": [],
   "source": []
  },
  {
   "cell_type": "code",
   "execution_count": null,
   "id": "9bb15f21",
   "metadata": {},
   "outputs": [],
   "source": []
  },
  {
   "cell_type": "code",
   "execution_count": null,
   "id": "91d55e92",
   "metadata": {},
   "outputs": [],
   "source": []
  },
  {
   "cell_type": "code",
   "execution_count": null,
   "id": "27291f67",
   "metadata": {},
   "outputs": [],
   "source": []
  },
  {
   "cell_type": "code",
   "execution_count": null,
   "id": "fd30489f",
   "metadata": {},
   "outputs": [],
   "source": []
  }
 ],
 "metadata": {
  "kernelspec": {
   "display_name": "Python 3 (ipykernel)",
   "language": "python",
   "name": "python3"
  },
  "language_info": {
   "codemirror_mode": {
    "name": "ipython",
    "version": 3
   },
   "file_extension": ".py",
   "mimetype": "text/x-python",
   "name": "python",
   "nbconvert_exporter": "python",
   "pygments_lexer": "ipython3",
   "version": "3.9.12"
  }
 },
 "nbformat": 4,
 "nbformat_minor": 5
}
